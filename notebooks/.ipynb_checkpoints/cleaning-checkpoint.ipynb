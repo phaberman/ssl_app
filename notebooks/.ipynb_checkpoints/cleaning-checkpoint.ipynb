{
 "cells": [
  {
   "cell_type": "markdown",
   "id": "a9f98b97-8520-499d-b865-bff32d4f5124",
   "metadata": {},
   "source": [
    "# Packages"
   ]
  },
  {
   "cell_type": "code",
   "execution_count": 40,
   "id": "cb554dae-4a90-47c4-ae7d-e2b23dcb41f7",
   "metadata": {},
   "outputs": [],
   "source": [
    "import pandas as pd\n",
    "import numpy as np"
   ]
  },
  {
   "cell_type": "markdown",
   "id": "db2c92fe-f6d7-435b-bc55-46459654c4a7",
   "metadata": {},
   "source": [
    "# Load Data Function"
   ]
  },
  {
   "cell_type": "code",
   "execution_count": 41,
   "id": "d160184b-c253-4ef0-bed1-b511793a2a5d",
   "metadata": {},
   "outputs": [],
   "source": [
    "def load_data():\n",
    "    \n",
    "    # path\n",
    "    folder = '../data/'\n",
    "    file = 'ssl_stats_raw.pkl'\n",
    "    path = folder + file\n",
    "    \n",
    "    # read with pandas\n",
    "    return pd.read_pickle(path)"
   ]
  },
  {
   "cell_type": "markdown",
   "id": "8c7edc3c-9abf-41cb-ae7d-c976d2c31798",
   "metadata": {},
   "source": [
    "# Data Cleaning Functions"
   ]
  },
  {
   "cell_type": "markdown",
   "id": "cb7979a6-3f95-4a62-9f06-aead27f16a5a",
   "metadata": {},
   "source": [
    "## Drop NA Rows and Cols"
   ]
  },
  {
   "cell_type": "code",
   "execution_count": 42,
   "id": "2a012903-a5d0-4448-872e-3e443b5e1bc4",
   "metadata": {},
   "outputs": [],
   "source": [
    "def drop_row_col(df):\n",
    "    \n",
    "    # save headers from row index 8\n",
    "    new_headers = df.iloc[8].tolist()[1:]\n",
    "    \n",
    "    # remove empty rows head and tail \n",
    "    head_rm = np.arange(0, 9).tolist()\n",
    "    tail_rm = np.arange(167, 171).tolist() \n",
    "    idx_rm = head_rm + tail_rm\n",
    "    \n",
    "    df = df.drop(labels = idx_rm, axis = 0)\n",
    "    \n",
    "    # set new headers\n",
    "    df = df.drop(labels = df.columns[0], axis = 1)\n",
    "    \n",
    "    df.columns = new_headers\n",
    "\n",
    "    return df"
   ]
  },
  {
   "cell_type": "markdown",
   "id": "0d931f6f-722e-4c56-b90e-09b93dbb9e79",
   "metadata": {},
   "source": [
    "## Change Names"
   ]
  },
  {
   "cell_type": "code",
   "execution_count": 43,
   "id": "9c40843a-f3d5-4085-ab53-833b29800055",
   "metadata": {},
   "outputs": [],
   "source": [
    "def name_changer(df):\n",
    "    \n",
    "    # fill nas in last\n",
    "    df.Last = df.Last.fillna('')\n",
    "    \n",
    "    # fill nas in first\n",
    "    df.First = df.First.fillna('')\n",
    "    \n",
    "    # comine first and last name\n",
    "    df['First'] = df.First + ' ' + df.Last\n",
    "        \n",
    "    # drop last name columns\n",
    "    df = df.drop(columns = 'Last')\n",
    "\n",
    "    df = df.reset_index()\n",
    "    \n",
    "    # rename name column\n",
    "    return df.rename(columns = {'First': 'Name'})"
   ]
  },
  {
   "cell_type": "markdown",
   "id": "a6dde4d8-fced-4963-9101-2b740accc47c",
   "metadata": {},
   "source": [
    "## Drop Cols "
   ]
  },
  {
   "cell_type": "code",
   "execution_count": 44,
   "id": "057325d9-744c-4172-8ca4-26f20560b2f0",
   "metadata": {},
   "outputs": [],
   "source": [
    "def col_dropper(df):\n",
    "    \n",
    "    # set cols to drop\n",
    "    drop_cols = {'index', 'Number'}\n",
    "\n",
    "    # drop cols\n",
    "    return df.drop(columns = drop_cols)"
   ]
  },
  {
   "cell_type": "markdown",
   "id": "27c2b45b-9f1c-4dd8-a044-624dd71f271d",
   "metadata": {},
   "source": [
    "## Title Case"
   ]
  },
  {
   "cell_type": "code",
   "execution_count": 45,
   "id": "673d03bc-98d3-4cb2-9945-70b838b0c4b0",
   "metadata": {},
   "outputs": [],
   "source": [
    "def title_case(df):\n",
    "    \n",
    "    lst = []\n",
    "    \n",
    "    for n in df.Name:\n",
    "        n = n.title()\n",
    "        lst.append(n)\n",
    "    \n",
    "    df.Name = lst\n",
    "    \n",
    "    return df"
   ]
  },
  {
   "cell_type": "markdown",
   "id": "25e3cdb2-686e-4669-a32b-021dc1365790",
   "metadata": {},
   "source": [
    "## Strip Whitespace"
   ]
  },
  {
   "cell_type": "code",
   "execution_count": 46,
   "id": "978b6810-1e0b-4e5e-b6b0-516c161a09e2",
   "metadata": {},
   "outputs": [],
   "source": [
    "def stripper(df):\n",
    "    \n",
    "    lst0 = []\n",
    "    \n",
    "    for n in df.Name:\n",
    "        n = n.lstrip()\n",
    "        lst0.append(n)\n",
    "        \n",
    "    lst1 = []\n",
    "    \n",
    "    for n in lst0:\n",
    "        n = n.rstrip()\n",
    "        lst1.append(n)\n",
    "    \n",
    "    df.Name = lst1\n",
    "    \n",
    "    return df"
   ]
  },
  {
   "cell_type": "markdown",
   "id": "c103a97e-34b5-49b7-85e5-ce2a169d1c52",
   "metadata": {},
   "source": [
    "## Convert Dtypes"
   ]
  },
  {
   "cell_type": "code",
   "execution_count": 47,
   "id": "38157f2d-540d-43ce-8a18-c311f724387e",
   "metadata": {},
   "outputs": [],
   "source": [
    "def dtype_converter(df):\n",
    "    \n",
    "    df = df.infer_objects()\n",
    "    \n",
    "    return df"
   ]
  },
  {
   "cell_type": "code",
   "execution_count": 48,
   "id": "0c060216-1991-4a06-a82d-d092773c9493",
   "metadata": {},
   "outputs": [],
   "source": [
    "def sorter(df):\n",
    "    \n",
    "    return df.sort_values(by = ['Team', 'Name'])"
   ]
  },
  {
   "cell_type": "markdown",
   "id": "33e23304-e787-4950-9c94-771dafa26c00",
   "metadata": {},
   "source": [
    "# Final Pipeline"
   ]
  },
  {
   "cell_type": "markdown",
   "id": "bcffa0ee-2e11-4455-a1a1-2990a3c7641b",
   "metadata": {},
   "source": [
    "drop_row_col\n",
    "name_changer\n",
    "col_dropper\n",
    "title_case\n",
    "stripper\n",
    "dtype_converter"
   ]
  },
  {
   "cell_type": "code",
   "execution_count": 49,
   "id": "6d7d72ee-7a23-4de2-8982-52336c14d146",
   "metadata": {},
   "outputs": [],
   "source": [
    "df_final = (load_data()\n",
    "            .pipe(drop_row_col)\n",
    "            .pipe(name_changer)\n",
    "            .pipe(col_dropper)\n",
    "            .pipe(title_case)\n",
    "            .pipe(stripper)\n",
    "            .pipe(dtype_converter)\n",
    "            .pipe(sorter)\n",
    "           )"
   ]
  },
  {
   "cell_type": "markdown",
   "id": "e64a7989-e426-45d8-8596-f2c83b681733",
   "metadata": {},
   "source": [
    "# Export Data"
   ]
  },
  {
   "cell_type": "code",
   "execution_count": 50,
   "id": "13416d20-ec4e-4629-a172-84e8f6adca26",
   "metadata": {},
   "outputs": [],
   "source": [
    "export_folder = '../data/'\n",
    "\n",
    "export_file = 'ssl_stats_clean.pkl'\n",
    "\n",
    "export_path = export_folder + export_file\n",
    "\n",
    "df_final.to_pickle(export_path)"
   ]
  },
  {
   "cell_type": "code",
   "execution_count": null,
   "id": "e58af8ab-a2c9-4b6e-b950-c01a1a5d5f4d",
   "metadata": {},
   "outputs": [],
   "source": []
  }
 ],
 "metadata": {
  "kernelspec": {
   "display_name": "Python 3",
   "language": "python",
   "name": "python3"
  },
  "language_info": {
   "codemirror_mode": {
    "name": "ipython",
    "version": 3
   },
   "file_extension": ".py",
   "mimetype": "text/x-python",
   "name": "python",
   "nbconvert_exporter": "python",
   "pygments_lexer": "ipython3",
   "version": "3.8.6"
  }
 },
 "nbformat": 4,
 "nbformat_minor": 5
}
